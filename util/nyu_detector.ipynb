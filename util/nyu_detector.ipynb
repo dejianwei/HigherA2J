{
 "cells": [
  {
   "cell_type": "code",
   "execution_count": null,
   "metadata": {},
   "outputs": [],
   "source": [
    "import sys\n",
    "sys.path.append('/home/dejian/Project/A2J')\n",
    "sys.path.append('/home/dejian/Project/A2J/src')\n",
    "\n",
    "import cv2\n",
    "import matplotlib.pyplot as plt\n",
    "from tqdm import tqdm\n",
    "import numpy as np\n",
    "import scipy.io as scio\n",
    "from util.hand_detector import HandDetector\n",
    "\n",
    "from IPython import display"
   ]
  },
  {
   "cell_type": "code",
   "execution_count": null,
   "metadata": {},
   "outputs": [],
   "source": [
    "fx = 474.973144\n",
    "fy = 474.973144\n",
    "\n",
    "TestImgFrames = 8252\n",
    "testingImageDir = '/home/dejian/Dataset/nyu/preprocessed/test/'\n",
    "test_keypoint_file = './data/nyu/nyu_keypointsUVD_test.mat'"
   ]
  },
  {
   "cell_type": "code",
   "execution_count": null,
   "metadata": {},
   "outputs": [],
   "source": [
    "def draw(detector, images, center, wait_time):\n",
    "    size = [300,300,300]\n",
    "    xstart, xend, ystart, yend, zstart, zend = detector.comToBounds(center, size)\n",
    "\n",
    "    plt.imshow(depth)\n",
    "    plt.plot(int(center[0]), int(center[1]), 'r*')\n",
    "    plt.plot((xstart,xstart),(ystart,yend))\n",
    "    plt.plot((xstart,xend),(ystart,ystart))\n",
    "    plt.plot((xend,xstart),(yend,yend))\n",
    "    plt.plot((xend,xend),(yend,ystart))\n",
    "\n",
    "    plt.pause(wait_time)\n",
    "\n",
    "    display.clear_output(wait=True)  # 实时刷新\n",
    "\n"
   ]
  },
  {
   "cell_type": "code",
   "execution_count": null,
   "metadata": {},
   "outputs": [],
   "source": [
    "img_dir = testingImageDir\n",
    "img_count = TestImgFrames\n",
    "\n",
    "# step=10是为了让图片之间的区别更加明显\n",
    "for index in range(0, img_count, 10):\n",
    "    depth = scio.loadmat(img_dir + str(index+1) + '.mat')['depth'].astype(np.float32)\n",
    "    hd = HandDetector(depth, fx, fy)\n",
    "    center, _ = hd.detect()\n",
    "    draw(hd, depth, center, 0.001)\n",
    "\n"
   ]
  },
  {
   "cell_type": "code",
   "execution_count": null,
   "metadata": {},
   "outputs": [],
   "source": []
  }
 ],
 "metadata": {
  "kernelspec": {
   "name": "python388jvsc74a57bd033bc699e3014f98ce99c5cc5c815795c53c5b6306fee46b838c34401a0f018d5",
   "display_name": "Python 3.8.8 64-bit ('a2j11': conda)"
  },
  "language_info": {
   "codemirror_mode": {
    "name": "ipython",
    "version": 3
   },
   "file_extension": ".py",
   "mimetype": "text/x-python",
   "name": "python",
   "nbconvert_exporter": "python",
   "pygments_lexer": "ipython3",
   "version": "3.8.8"
  }
 },
 "nbformat": 4,
 "nbformat_minor": 2
}