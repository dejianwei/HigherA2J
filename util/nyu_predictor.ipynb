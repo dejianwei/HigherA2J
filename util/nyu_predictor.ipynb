{
 "cells": [
  {
   "cell_type": "code",
   "execution_count": null,
   "metadata": {},
   "outputs": [],
   "source": [
    "import sys\n",
    "sys.path.append('/home/dejian/Project/A2J')\n",
    "sys.path.append('/home/dejian/Project/A2J/src')\n",
    "\n",
    "import cv2\n",
    "import matplotlib.pyplot as plt\n",
    "from tqdm import tqdm\n",
    "import numpy as np\n",
    "import scipy.io as scio\n",
    "from util.hand_detector import HandDetector\n",
    "from util.pose_predictor import PosePredictor\n",
    "\n",
    "from IPython import display"
   ]
  },
  {
   "cell_type": "code",
   "execution_count": null,
   "metadata": {},
   "outputs": [],
   "source": [
    "fx = 474.973144\n",
    "fy = 474.973144\n",
    "\n",
    "TestImgFrames = 8252\n",
    "testingImageDir = '/home/dejian/Dataset/nyu/preprocessed/test/'\n",
    "test_keypoint_file = './data/nyu/nyu_keypointsUVD_test.mat'"
   ]
  },
  {
   "cell_type": "code",
   "execution_count": null,
   "metadata": {},
   "outputs": [],
   "source": [
    "def draw(images, center, keypoints, wait_time):\n",
    "\n",
    "    plt.imshow(images)\n",
    "    # plt.plot(center[0], center[1], 'r*')\n",
    "    plt.plot(keypoints[:,0], keypoints[:,1], 'r*')\n",
    "\n",
    "    plt.pause(wait_time)\n",
    "\n",
    "    display.clear_output(wait=True)  # 实时刷新\n",
    "\n"
   ]
  },
  {
   "cell_type": "code",
   "execution_count": null,
   "metadata": {},
   "outputs": [],
   "source": [
    "img_dir = testingImageDir\n",
    "img_count = TestImgFrames\n",
    "\n",
    "predictor = PosePredictor()\n",
    "size = [300,300,300]\n",
    "\n",
    "# step=10是为了让图片之间的区别更加明显\n",
    "for index in range(0, img_count, 10):\n",
    "    depth = scio.loadmat(img_dir + str(index+1) + '.mat')['depth'].astype(np.float32)\n",
    "    hd = HandDetector(depth, fx, fy)\n",
    "    center, _ = hd.detect()\n",
    "    xstart, xend, ystart, yend, zstart, zend = hd.comToBounds(center, size)\n",
    "    lefttop, rightbottom = (xstart, yend), (xend, ystart)\n",
    "    crop, keypoints = predictor.predict(depth, center, lefttop, rightbottom)\n",
    "    draw(depth, center, keypoints, 0.1)"
   ]
  },
  {
   "cell_type": "code",
   "execution_count": null,
   "metadata": {},
   "outputs": [],
   "source": []
  },
  {
   "cell_type": "code",
   "execution_count": null,
   "metadata": {},
   "outputs": [],
   "source": []
  }
 ],
 "metadata": {
  "kernelspec": {
   "display_name": "Python 3.8.8 64-bit ('a2j11': conda)",
   "language": "python",
   "name": "python38864bita2j11conda75ccd6b5d17942daa298210626a9c0bd"
  },
  "language_info": {
   "codemirror_mode": {
    "name": "ipython",
    "version": 3
   },
   "file_extension": ".py",
   "mimetype": "text/x-python",
   "name": "python",
   "nbconvert_exporter": "python",
   "pygments_lexer": "ipython3",
   "version": "3.8.8"
  }
 },
 "nbformat": 4,
 "nbformat_minor": 2
}